{
 "cells": [
  {
   "cell_type": "markdown",
   "id": "95d27248",
   "metadata": {},
   "source": [
    "# String"
   ]
  },
  {
   "cell_type": "code",
   "execution_count": 1,
   "id": "7ac6e6d9",
   "metadata": {},
   "outputs": [],
   "source": [
    "text=\"ice cream\""
   ]
  },
  {
   "cell_type": "code",
   "execution_count": 3,
   "id": "937ce5c8",
   "metadata": {},
   "outputs": [
    {
     "data": {
      "text/plain": [
       "'ice cream'"
      ]
     },
     "execution_count": 3,
     "metadata": {},
     "output_type": "execute_result"
    }
   ],
   "source": [
    "text"
   ]
  },
  {
   "cell_type": "code",
   "execution_count": 5,
   "id": "1fb16932",
   "metadata": {},
   "outputs": [
    {
     "data": {
      "text/plain": [
       "'i'"
      ]
     },
     "execution_count": 5,
     "metadata": {},
     "output_type": "execute_result"
    }
   ],
   "source": [
    "text[0]"
   ]
  },
  {
   "cell_type": "code",
   "execution_count": 7,
   "id": "a342974b",
   "metadata": {},
   "outputs": [
    {
     "ename": "TypeError",
     "evalue": "'str' object does not support item assignment",
     "output_type": "error",
     "traceback": [
      "\u001b[1;31m---------------------------------------------------------------------------\u001b[0m",
      "\u001b[1;31mTypeError\u001b[0m                                 Traceback (most recent call last)",
      "\u001b[1;32m~\\AppData\\Local\\Temp/ipykernel_7528/1752977502.py\u001b[0m in \u001b[0;36m<cell line: 1>\u001b[1;34m()\u001b[0m\n\u001b[1;32m----> 1\u001b[1;33m \u001b[0mtext\u001b[0m\u001b[1;33m[\u001b[0m\u001b[1;36m0\u001b[0m\u001b[1;33m]\u001b[0m\u001b[1;33m=\u001b[0m\u001b[1;34m'g'\u001b[0m  \u001b[1;31m# string is immutable e cant change it partialy\u001b[0m\u001b[1;33m\u001b[0m\u001b[1;33m\u001b[0m\u001b[0m\n\u001b[0m",
      "\u001b[1;31mTypeError\u001b[0m: 'str' object does not support item assignment"
     ]
    }
   ],
   "source": [
    "text[0]='g'  # string is immutable e cant change it partialy"
   ]
  },
  {
   "cell_type": "code",
   "execution_count": 8,
   "id": "9c23c51e",
   "metadata": {},
   "outputs": [
    {
     "data": {
      "text/plain": [
       "'ice'"
      ]
     },
     "execution_count": 8,
     "metadata": {},
     "output_type": "execute_result"
    }
   ],
   "source": [
    "text[0:3]"
   ]
  },
  {
   "cell_type": "code",
   "execution_count": 10,
   "id": "3b35a3c8",
   "metadata": {},
   "outputs": [
    {
     "data": {
      "text/plain": [
       "'cream'"
      ]
     },
     "execution_count": 10,
     "metadata": {},
     "output_type": "execute_result"
    }
   ],
   "source": [
    "text[4:9]"
   ]
  },
  {
   "cell_type": "code",
   "execution_count": 11,
   "id": "87f1a278",
   "metadata": {},
   "outputs": [
    {
     "data": {
      "text/plain": [
       "'cream'"
      ]
     },
     "execution_count": 11,
     "metadata": {},
     "output_type": "execute_result"
    }
   ],
   "source": [
    "text[4:]"
   ]
  },
  {
   "cell_type": "code",
   "execution_count": 12,
   "id": "eede45d4",
   "metadata": {},
   "outputs": [
    {
     "data": {
      "text/plain": [
       "'ice'"
      ]
     },
     "execution_count": 12,
     "metadata": {},
     "output_type": "execute_result"
    }
   ],
   "source": [
    "text[:3]"
   ]
  },
  {
   "cell_type": "code",
   "execution_count": 14,
   "id": "adbe960f",
   "metadata": {},
   "outputs": [],
   "source": [
    "text=\"hello\"\n",
    "text='hello'\n",
    "# it will gives error\n",
    "#text='let's learn python' \n",
    "text=\"let's learn python\" # now its ok"
   ]
  },
  {
   "cell_type": "code",
   "execution_count": 16,
   "id": "e55e7d6a",
   "metadata": {},
   "outputs": [
    {
     "name": "stdout",
     "output_type": "stream",
     "text": [
      "I purple street\n",
      "new york\n",
      "usa\n"
     ]
    },
    {
     "data": {
      "text/plain": [
       "'I purple street\\nnew york\\nusa'"
      ]
     },
     "execution_count": 16,
     "metadata": {},
     "output_type": "execute_result"
    }
   ],
   "source": [
    "address='''I purple street\n",
    "new york\n",
    "usa'''\n",
    "print(address)\n",
    "address"
   ]
  },
  {
   "cell_type": "code",
   "execution_count": 17,
   "id": "4945830a",
   "metadata": {},
   "outputs": [
    {
     "data": {
      "text/plain": [
       "'helloworld'"
      ]
     },
     "execution_count": 17,
     "metadata": {},
     "output_type": "execute_result"
    }
   ],
   "source": [
    "s1=\"hello\"\n",
    "s2=\"world\"\n",
    "s1+s2"
   ]
  },
  {
   "cell_type": "code",
   "execution_count": 19,
   "id": "85d9017a",
   "metadata": {},
   "outputs": [
    {
     "data": {
      "text/plain": [
       "'hello world'"
      ]
     },
     "execution_count": 19,
     "metadata": {},
     "output_type": "execute_result"
    }
   ],
   "source": [
    "s1+' '+s2"
   ]
  },
  {
   "cell_type": "code",
   "execution_count": 27,
   "id": "55989ab2",
   "metadata": {},
   "outputs": [
    {
     "data": {
      "text/plain": [
       "'total states in usa 25'"
      ]
     },
     "execution_count": 27,
     "metadata": {},
     "output_type": "execute_result"
    }
   ],
   "source": [
    "s=\"total states in usa \"\n",
    "num=25\n",
    "#s+num\n",
    "s+str(num)\n"
   ]
  },
  {
   "cell_type": "code",
   "execution_count": null,
   "id": "e3c655dd",
   "metadata": {},
   "outputs": [],
   "source": []
  }
 ],
 "metadata": {
  "kernelspec": {
   "display_name": "Python 3 (ipykernel)",
   "language": "python",
   "name": "python3"
  },
  "language_info": {
   "codemirror_mode": {
    "name": "ipython",
    "version": 3
   },
   "file_extension": ".py",
   "mimetype": "text/x-python",
   "name": "python",
   "nbconvert_exporter": "python",
   "pygments_lexer": "ipython3",
   "version": "3.9.7"
  }
 },
 "nbformat": 4,
 "nbformat_minor": 5
}
